{
  "nbformat": 4,
  "nbformat_minor": 0,
  "metadata": {
    "colab": {
      "name": "LinearRegression.ipynb",
      "provenance": [],
      "collapsed_sections": []
    },
    "kernelspec": {
      "name": "python3",
      "display_name": "Python 3"
    },
    "language_info": {
      "name": "python"
    }
  },
  "cells": [
    {
      "cell_type": "code",
      "execution_count": 143,
      "metadata": {
        "id": "tnTwhLkqYD8z"
      },
      "outputs": [],
      "source": [
        "import pandas as pd\n",
        "import numpy as np\n",
        "import matplotlib.pyplot as plt\n",
        "from sklearn.model_selection import train_test_split, cross_val_score\n",
        "from sklearn.linear_model import LinearRegression , Ridge, Lasso\n",
        "from sklearn.metrics import accuracy_score \n",
        "from sklearn.preprocessing import PolynomialFeatures\n",
        "from sklearn.metrics import mean_squared_error\n",
        "from sklearn.metrics import r2_score\n",
        "from statistics import mean"
      ]
    },
    {
      "cell_type": "code",
      "source": [
        "df=pd.read_csv(\"housing.csv\",header=None, delimiter=r\"\\s+\",names= ['CRIM', 'ZN', 'INDUS', 'CHAS', 'NOX', 'RM', 'AGE', 'DIS', 'RAD', 'TAX', 'PTRATIO', 'B', 'LSTAT', 'MEDV'])\n",
        "df.head()"
      ],
      "metadata": {
        "colab": {
          "base_uri": "https://localhost:8080/",
          "height": 206
        },
        "id": "22GzRFfsZI4V",
        "outputId": "12e217a7-029d-42e5-f74e-12a08c2b9014"
      },
      "execution_count": 144,
      "outputs": [
        {
          "output_type": "execute_result",
          "data": {
            "text/plain": [
              "      CRIM    ZN  INDUS  CHAS    NOX     RM   AGE     DIS  RAD    TAX  \\\n",
              "0  0.00632  18.0   2.31     0  0.538  6.575  65.2  4.0900    1  296.0   \n",
              "1  0.02731   0.0   7.07     0  0.469  6.421  78.9  4.9671    2  242.0   \n",
              "2  0.02729   0.0   7.07     0  0.469  7.185  61.1  4.9671    2  242.0   \n",
              "3  0.03237   0.0   2.18     0  0.458  6.998  45.8  6.0622    3  222.0   \n",
              "4  0.06905   0.0   2.18     0  0.458  7.147  54.2  6.0622    3  222.0   \n",
              "\n",
              "   PTRATIO       B  LSTAT  MEDV  \n",
              "0     15.3  396.90   4.98  24.0  \n",
              "1     17.8  396.90   9.14  21.6  \n",
              "2     17.8  392.83   4.03  34.7  \n",
              "3     18.7  394.63   2.94  33.4  \n",
              "4     18.7  396.90   5.33  36.2  "
            ],
            "text/html": [
              "\n",
              "  <div id=\"df-ba816b11-7457-46f7-a995-9374c1cecede\">\n",
              "    <div class=\"colab-df-container\">\n",
              "      <div>\n",
              "<style scoped>\n",
              "    .dataframe tbody tr th:only-of-type {\n",
              "        vertical-align: middle;\n",
              "    }\n",
              "\n",
              "    .dataframe tbody tr th {\n",
              "        vertical-align: top;\n",
              "    }\n",
              "\n",
              "    .dataframe thead th {\n",
              "        text-align: right;\n",
              "    }\n",
              "</style>\n",
              "<table border=\"1\" class=\"dataframe\">\n",
              "  <thead>\n",
              "    <tr style=\"text-align: right;\">\n",
              "      <th></th>\n",
              "      <th>CRIM</th>\n",
              "      <th>ZN</th>\n",
              "      <th>INDUS</th>\n",
              "      <th>CHAS</th>\n",
              "      <th>NOX</th>\n",
              "      <th>RM</th>\n",
              "      <th>AGE</th>\n",
              "      <th>DIS</th>\n",
              "      <th>RAD</th>\n",
              "      <th>TAX</th>\n",
              "      <th>PTRATIO</th>\n",
              "      <th>B</th>\n",
              "      <th>LSTAT</th>\n",
              "      <th>MEDV</th>\n",
              "    </tr>\n",
              "  </thead>\n",
              "  <tbody>\n",
              "    <tr>\n",
              "      <th>0</th>\n",
              "      <td>0.00632</td>\n",
              "      <td>18.0</td>\n",
              "      <td>2.31</td>\n",
              "      <td>0</td>\n",
              "      <td>0.538</td>\n",
              "      <td>6.575</td>\n",
              "      <td>65.2</td>\n",
              "      <td>4.0900</td>\n",
              "      <td>1</td>\n",
              "      <td>296.0</td>\n",
              "      <td>15.3</td>\n",
              "      <td>396.90</td>\n",
              "      <td>4.98</td>\n",
              "      <td>24.0</td>\n",
              "    </tr>\n",
              "    <tr>\n",
              "      <th>1</th>\n",
              "      <td>0.02731</td>\n",
              "      <td>0.0</td>\n",
              "      <td>7.07</td>\n",
              "      <td>0</td>\n",
              "      <td>0.469</td>\n",
              "      <td>6.421</td>\n",
              "      <td>78.9</td>\n",
              "      <td>4.9671</td>\n",
              "      <td>2</td>\n",
              "      <td>242.0</td>\n",
              "      <td>17.8</td>\n",
              "      <td>396.90</td>\n",
              "      <td>9.14</td>\n",
              "      <td>21.6</td>\n",
              "    </tr>\n",
              "    <tr>\n",
              "      <th>2</th>\n",
              "      <td>0.02729</td>\n",
              "      <td>0.0</td>\n",
              "      <td>7.07</td>\n",
              "      <td>0</td>\n",
              "      <td>0.469</td>\n",
              "      <td>7.185</td>\n",
              "      <td>61.1</td>\n",
              "      <td>4.9671</td>\n",
              "      <td>2</td>\n",
              "      <td>242.0</td>\n",
              "      <td>17.8</td>\n",
              "      <td>392.83</td>\n",
              "      <td>4.03</td>\n",
              "      <td>34.7</td>\n",
              "    </tr>\n",
              "    <tr>\n",
              "      <th>3</th>\n",
              "      <td>0.03237</td>\n",
              "      <td>0.0</td>\n",
              "      <td>2.18</td>\n",
              "      <td>0</td>\n",
              "      <td>0.458</td>\n",
              "      <td>6.998</td>\n",
              "      <td>45.8</td>\n",
              "      <td>6.0622</td>\n",
              "      <td>3</td>\n",
              "      <td>222.0</td>\n",
              "      <td>18.7</td>\n",
              "      <td>394.63</td>\n",
              "      <td>2.94</td>\n",
              "      <td>33.4</td>\n",
              "    </tr>\n",
              "    <tr>\n",
              "      <th>4</th>\n",
              "      <td>0.06905</td>\n",
              "      <td>0.0</td>\n",
              "      <td>2.18</td>\n",
              "      <td>0</td>\n",
              "      <td>0.458</td>\n",
              "      <td>7.147</td>\n",
              "      <td>54.2</td>\n",
              "      <td>6.0622</td>\n",
              "      <td>3</td>\n",
              "      <td>222.0</td>\n",
              "      <td>18.7</td>\n",
              "      <td>396.90</td>\n",
              "      <td>5.33</td>\n",
              "      <td>36.2</td>\n",
              "    </tr>\n",
              "  </tbody>\n",
              "</table>\n",
              "</div>\n",
              "      <button class=\"colab-df-convert\" onclick=\"convertToInteractive('df-ba816b11-7457-46f7-a995-9374c1cecede')\"\n",
              "              title=\"Convert this dataframe to an interactive table.\"\n",
              "              style=\"display:none;\">\n",
              "        \n",
              "  <svg xmlns=\"http://www.w3.org/2000/svg\" height=\"24px\"viewBox=\"0 0 24 24\"\n",
              "       width=\"24px\">\n",
              "    <path d=\"M0 0h24v24H0V0z\" fill=\"none\"/>\n",
              "    <path d=\"M18.56 5.44l.94 2.06.94-2.06 2.06-.94-2.06-.94-.94-2.06-.94 2.06-2.06.94zm-11 1L8.5 8.5l.94-2.06 2.06-.94-2.06-.94L8.5 2.5l-.94 2.06-2.06.94zm10 10l.94 2.06.94-2.06 2.06-.94-2.06-.94-.94-2.06-.94 2.06-2.06.94z\"/><path d=\"M17.41 7.96l-1.37-1.37c-.4-.4-.92-.59-1.43-.59-.52 0-1.04.2-1.43.59L10.3 9.45l-7.72 7.72c-.78.78-.78 2.05 0 2.83L4 21.41c.39.39.9.59 1.41.59.51 0 1.02-.2 1.41-.59l7.78-7.78 2.81-2.81c.8-.78.8-2.07 0-2.86zM5.41 20L4 18.59l7.72-7.72 1.47 1.35L5.41 20z\"/>\n",
              "  </svg>\n",
              "      </button>\n",
              "      \n",
              "  <style>\n",
              "    .colab-df-container {\n",
              "      display:flex;\n",
              "      flex-wrap:wrap;\n",
              "      gap: 12px;\n",
              "    }\n",
              "\n",
              "    .colab-df-convert {\n",
              "      background-color: #E8F0FE;\n",
              "      border: none;\n",
              "      border-radius: 50%;\n",
              "      cursor: pointer;\n",
              "      display: none;\n",
              "      fill: #1967D2;\n",
              "      height: 32px;\n",
              "      padding: 0 0 0 0;\n",
              "      width: 32px;\n",
              "    }\n",
              "\n",
              "    .colab-df-convert:hover {\n",
              "      background-color: #E2EBFA;\n",
              "      box-shadow: 0px 1px 2px rgba(60, 64, 67, 0.3), 0px 1px 3px 1px rgba(60, 64, 67, 0.15);\n",
              "      fill: #174EA6;\n",
              "    }\n",
              "\n",
              "    [theme=dark] .colab-df-convert {\n",
              "      background-color: #3B4455;\n",
              "      fill: #D2E3FC;\n",
              "    }\n",
              "\n",
              "    [theme=dark] .colab-df-convert:hover {\n",
              "      background-color: #434B5C;\n",
              "      box-shadow: 0px 1px 3px 1px rgba(0, 0, 0, 0.15);\n",
              "      filter: drop-shadow(0px 1px 2px rgba(0, 0, 0, 0.3));\n",
              "      fill: #FFFFFF;\n",
              "    }\n",
              "  </style>\n",
              "\n",
              "      <script>\n",
              "        const buttonEl =\n",
              "          document.querySelector('#df-ba816b11-7457-46f7-a995-9374c1cecede button.colab-df-convert');\n",
              "        buttonEl.style.display =\n",
              "          google.colab.kernel.accessAllowed ? 'block' : 'none';\n",
              "\n",
              "        async function convertToInteractive(key) {\n",
              "          const element = document.querySelector('#df-ba816b11-7457-46f7-a995-9374c1cecede');\n",
              "          const dataTable =\n",
              "            await google.colab.kernel.invokeFunction('convertToInteractive',\n",
              "                                                     [key], {});\n",
              "          if (!dataTable) return;\n",
              "\n",
              "          const docLinkHtml = 'Like what you see? Visit the ' +\n",
              "            '<a target=\"_blank\" href=https://colab.research.google.com/notebooks/data_table.ipynb>data table notebook</a>'\n",
              "            + ' to learn more about interactive tables.';\n",
              "          element.innerHTML = '';\n",
              "          dataTable['output_type'] = 'display_data';\n",
              "          await google.colab.output.renderOutput(dataTable, element);\n",
              "          const docLink = document.createElement('div');\n",
              "          docLink.innerHTML = docLinkHtml;\n",
              "          element.appendChild(docLink);\n",
              "        }\n",
              "      </script>\n",
              "    </div>\n",
              "  </div>\n",
              "  "
            ]
          },
          "metadata": {},
          "execution_count": 144
        }
      ]
    },
    {
      "cell_type": "code",
      "source": [
        "X=df.drop(labels=['MEDV'], axis=1)\n",
        "y=df[\"MEDV\"]\n",
        "X_train, X_test, y_train, y_test = train_test_split(X, y,\n",
        "    test_size=0.2, shuffle = True)\n",
        "\n",
        "# Use the same function above for the validation set\n",
        "X_train, X_val, y_train, y_val = train_test_split(X_train, y_train, \n",
        "    test_size=0.25) "
      ],
      "metadata": {
        "id": "6xo0bjZdZQs3"
      },
      "execution_count": 145,
      "outputs": []
    },
    {
      "cell_type": "code",
      "source": [
        "min_err=0\n",
        "err=[]\n",
        "deg=[]\n",
        "\n",
        "for i in range(1,10):\n",
        "\n",
        "  poly = PolynomialFeatures(i,include_bias=True)\n",
        "  X_train_tr=poly.fit_transform(X_train)\n",
        "  X_test_tr=poly.transform(X_test)\n",
        "  X_val_tr=poly.transform(X_val)\n",
        "\n",
        "  lm = LinearRegression()\n",
        "  lm.fit(X_train_tr,y_train)\n",
        "  y_pred_test = lm.predict(X_test_tr)\n",
        "  y_pred_val=lm.predict(X_val_tr)\n",
        "  # if mean_squared_error(y_val,y_pred_val) < min_err:\n",
        "  err.append(mean_squared_error(y_val,y_pred_val))\n",
        "  deg.append(i)\n",
        "\n",
        "    \n",
        "min_err=min(err) \n",
        "\n",
        "\n",
        "print(\"mse error: \" + str(min_err) +\" with deg of : \" + str(deg[np.argmin(min_err)]))\n"
      ],
      "metadata": {
        "colab": {
          "base_uri": "https://localhost:8080/"
        },
        "id": "g4rImaRukxpp",
        "outputId": "7ecbf09b-d227-4683-a651-482b674f0fdc"
      },
      "execution_count": 146,
      "outputs": [
        {
          "output_type": "stream",
          "name": "stdout",
          "text": [
            "mse error: 27.053230706966154 with deg of : 1\n"
          ]
        }
      ]
    },
    {
      "cell_type": "code",
      "source": [
        "poly = PolynomialFeatures(1,include_bias=True)\n",
        "X_train_tr=poly.fit_transform(X_train)\n",
        "X_test_tr=poly.transform(X_test)\n",
        "X_val_tr=poly.transform(X_val)\n",
        "\n",
        "lm = LinearRegression()\n",
        "lm.fit(X_train_tr,y_train)\n",
        "y_pred_test = lm.predict(X_test_tr)\n",
        "mse=mean_squared_error(y_test,y_pred_test)\n",
        "print(\"mse error: \" + str(mse))"
      ],
      "metadata": {
        "colab": {
          "base_uri": "https://localhost:8080/"
        },
        "id": "r95IWvLxSz8p",
        "outputId": "af77f331-6c51-420d-aa84-2494f6df0742"
      },
      "execution_count": 147,
      "outputs": [
        {
          "output_type": "stream",
          "name": "stdout",
          "text": [
            "mse error: 15.562688558830544\n"
          ]
        }
      ]
    },
    {
      "cell_type": "code",
      "source": [
        "print(r2_score(y_test, y_pred_test))"
      ],
      "metadata": {
        "colab": {
          "base_uri": "https://localhost:8080/"
        },
        "id": "krnrIhzFwwZY",
        "outputId": "32424671-61d2-44e7-b926-6e965df6b0f2"
      },
      "execution_count": 148,
      "outputs": [
        {
          "output_type": "stream",
          "name": "stdout",
          "text": [
            "0.7696099252637325\n"
          ]
        }
      ]
    },
    {
      "cell_type": "code",
      "source": [
        "# List to maintain the different cross-validation scores\n",
        "\n",
        "min_err=0\n",
        "er_val=[]\n",
        "er_train=[]\n",
        "deg=[]\n",
        "\n",
        "# List to maintain the different values of alpha\n",
        "alpha = [0,0.01,0.02,0.04,0.08,0.16,0.32,0.64,1.28,2.56,5.12,10.24]\n",
        "\n",
        "# Loop to compute the different values of cross-validation scores\n",
        "for i in alpha:\n",
        "   poly = PolynomialFeatures(1,include_bias=True)\n",
        "   X_train_tr=poly.fit_transform(X_train)\n",
        "   X_test_tr=poly.transform(X_test)\n",
        "   X_val_tr=poly.transform(X_val)\n",
        "\n",
        "   ridgeModel = Ridge(alpha = i)\n",
        "   ridgeModel.fit(X_train_tr,y_train)\n",
        "   y_pre_val=ridgeModel.predict(X_val_tr)\n",
        "   y_pre_train=ridgeModel.predict(X_train_tr)\n",
        "   er_val.append(mean_squared_error(y_val,y_pre_val))\n",
        "   er_train.append(mean_squared_error(y_train,y_pre_train))\n",
        "   \n",
        "\n",
        "    \n",
        "min_err=min(er_val) \n",
        "\n",
        "\n",
        "print(\"mse error: \" + str(min_err) +\" with alpha of : \" + str(alpha[np.argmin(min_err)]))\n",
        "\n",
        "print(ridgeModel.score(X_test_tr, y_test))\n",
        "\n"
      ],
      "metadata": {
        "colab": {
          "base_uri": "https://localhost:8080/"
        },
        "id": "2X2kCd5c0wpu",
        "outputId": "b1dccb7a-016e-43d5-e2b8-caa13928863a"
      },
      "execution_count": 149,
      "outputs": [
        {
          "output_type": "stream",
          "name": "stdout",
          "text": [
            "mse error: 27.05323070696615 with alpha of : 0\n",
            "0.7617603316619438\n"
          ]
        }
      ]
    },
    {
      "cell_type": "code",
      "source": [
        "# Building and fitting the Ridge Regression model\n",
        "ridgeModelChosen = Ridge(alpha = 0)\n",
        "ridgeModelChosen.fit(X_train, y_train)\n",
        "\n",
        "# Evaluating the Ridge Regression model\n",
        "print(ridgeModelChosen.score(X_test, y_test))\n"
      ],
      "metadata": {
        "id": "mMhiWIYgx6AY",
        "colab": {
          "base_uri": "https://localhost:8080/"
        },
        "outputId": "6a9f7f73-ae4e-4e6e-e15b-a795232cfc33"
      },
      "execution_count": 150,
      "outputs": [
        {
          "output_type": "stream",
          "name": "stdout",
          "text": [
            "0.7696099252637318\n"
          ]
        }
      ]
    },
    {
      "cell_type": "code",
      "source": [
        "# fig, ax=plt.subplots()\n",
        "# ax.plot(alpha,er_train, '-b', label='Train')\n",
        "# ax.plot(alpha,er_val, '-r', label='Validation')\n",
        "# plt.xlabel('alpha')\n",
        "# plt.ylabel('Cost Function')\n",
        "# legend=ax.legend();"
      ],
      "metadata": {
        "id": "r1dWgFHPE9EJ"
      },
      "execution_count": null,
      "outputs": []
    },
    {
      "cell_type": "code",
      "source": [
        "# List to maintain the different cross-validation scores\n",
        "cross_val_scores_lasso = []\n",
        "min_err=0\n",
        "er_val_lasso=[]\n",
        "er_train_lasso=[]\n",
        "\n",
        "deg=[]\n",
        "\n",
        "# List to maintain the different values of alpha\n",
        "Lambda = [0,0.01,0.02,0.04,0.08,0.16,0.32,0.64,1.28,2.56,5.12,10.24]\n",
        "\n",
        "# Loop to compute the different values of cross-validation scores\n",
        "for i in Lambda:\n",
        "   lassoModel = Lasso(alpha = i)\n",
        "   lassoModel.fit(X_train_tr,y_train)\n",
        "   y_pre_val_lasso=lassoModel.predict(X_val_tr)\n",
        "   y_pre_train_lasso=ridgeModel.predict(X_train_tr)\n",
        "   er_val_lasso.append(mean_squared_error(y_val,y_pre_val_lasso))\n",
        "   er_train_lasso.append(mean_squared_error(y_train,y_pre_train_lasso))\n",
        "  \n",
        "\n",
        "    \n",
        "min_err=min(er_val_lasso) \n",
        "\n",
        "\n",
        "print(\"mse error: \" + str(min_err) +\" with deg of : \" + str(Lambda[np.argmin(min_err)]))\n",
        "\n",
        "print(lassoModel.score(X_test_tr, y_test))\n",
        "\n"
      ],
      "metadata": {
        "colab": {
          "base_uri": "https://localhost:8080/"
        },
        "id": "z8d-9WxR41RU",
        "outputId": "37fbca4c-cdeb-4f44-b115-6421d622a87c"
      },
      "execution_count": 152,
      "outputs": [
        {
          "output_type": "stream",
          "name": "stdout",
          "text": [
            "mse error: 27.053230706966115 with deg of : 0\n",
            "0.5826827284934959\n"
          ]
        },
        {
          "output_type": "stream",
          "name": "stderr",
          "text": [
            "/usr/local/lib/python3.7/dist-packages/ipykernel_launcher.py:15: UserWarning: With alpha=0, this algorithm does not converge well. You are advised to use the LinearRegression estimator\n",
            "  from ipykernel import kernelapp as app\n",
            "/usr/local/lib/python3.7/dist-packages/sklearn/linear_model/_coordinate_descent.py:648: UserWarning: Coordinate descent with no regularization may lead to unexpected results and is discouraged.\n",
            "  coef_, l1_reg, l2_reg, X, y, max_iter, tol, rng, random, positive\n",
            "/usr/local/lib/python3.7/dist-packages/sklearn/linear_model/_coordinate_descent.py:648: ConvergenceWarning: Objective did not converge. You might want to increase the number of iterations, check the scale of the features or consider increasing regularisation. Duality gap: 3.457e+03, tolerance: 2.408e+00 Linear regression models with null weight for the l1 regularization term are more efficiently fitted using one of the solvers implemented in sklearn.linear_model.Ridge/RidgeCV instead.\n",
            "  coef_, l1_reg, l2_reg, X, y, max_iter, tol, rng, random, positive\n"
          ]
        }
      ]
    },
    {
      "cell_type": "code",
      "source": [
        "lassoModelChosen = Lasso(alpha = 0)\n",
        "lassoModelChosen.fit(X_train, y_train)\n",
        "\n",
        "# Evaluating the Ridge Regression model\n",
        "print(lassoModelChosen.score(X_test, y_test))\n"
      ],
      "metadata": {
        "colab": {
          "base_uri": "https://localhost:8080/"
        },
        "id": "wvU5WmEX5ygZ",
        "outputId": "2b08ba3c-847a-408a-efa8-22bde90fbb39"
      },
      "execution_count": 153,
      "outputs": [
        {
          "output_type": "stream",
          "name": "stdout",
          "text": [
            "0.7696099252637321\n"
          ]
        },
        {
          "output_type": "stream",
          "name": "stderr",
          "text": [
            "/usr/local/lib/python3.7/dist-packages/ipykernel_launcher.py:2: UserWarning: With alpha=0, this algorithm does not converge well. You are advised to use the LinearRegression estimator\n",
            "  \n",
            "/usr/local/lib/python3.7/dist-packages/sklearn/linear_model/_coordinate_descent.py:648: UserWarning: Coordinate descent with no regularization may lead to unexpected results and is discouraged.\n",
            "  coef_, l1_reg, l2_reg, X, y, max_iter, tol, rng, random, positive\n",
            "/usr/local/lib/python3.7/dist-packages/sklearn/linear_model/_coordinate_descent.py:648: ConvergenceWarning: Objective did not converge. You might want to increase the number of iterations, check the scale of the features or consider increasing regularisation. Duality gap: 3.457e+03, tolerance: 2.408e+00 Linear regression models with null weight for the l1 regularization term are more efficiently fitted using one of the solvers implemented in sklearn.linear_model.Ridge/RidgeCV instead.\n",
            "  coef_, l1_reg, l2_reg, X, y, max_iter, tol, rng, random, positive\n"
          ]
        }
      ]
    },
    {
      "cell_type": "code",
      "source": [
        "# fig, ax=plt.subplots()\n",
        "# ax.plot(alpha,er_train_lasso, '-b', label='Train')\n",
        "# ax.plot(alpha,er_val_lasso, '-r', label='Validation')\n",
        "# plt.xlabel('alpha')\n",
        "# plt.ylabel('Cost Function')\n",
        "# legend=ax.legend();"
      ],
      "metadata": {
        "id": "rNr-psC4Gg77"
      },
      "execution_count": null,
      "outputs": []
    },
    {
      "cell_type": "code",
      "source": [
        "# Building the two lists for visualization\n",
        "models = ['Linear Regression', 'Ridge Regression', 'Lasso Regression']\n",
        "scores = [lm.score(X_test_tr, y_test),\n",
        "\t\tridgeModelChosen.score(X_test, y_test),\n",
        "\t\tlassoModelChosen.score(X_test, y_test)]\n",
        "\n",
        "# Building the dictionary to compare the scores\n",
        "mapping = {}\n",
        "mapping['Linear Regression'] = lm.score(X_test_tr, y_test)\n",
        "mapping['Ridge Regression'] = ridgeModelChosen.score(X_test, y_test)\n",
        "mapping['Lasso Regression'] = lassoModelChosen.score(X_test, y_test)\n",
        "\n",
        "# Printing the scores for different models\n",
        "for key, val in mapping.items():\n",
        "\tprint(str(key)+' : '+str(val))\n"
      ],
      "metadata": {
        "id": "mTrikeCTyUbR",
        "colab": {
          "base_uri": "https://localhost:8080/"
        },
        "outputId": "92f607d3-6a37-4a8e-e65a-1da47779bc20"
      },
      "execution_count": 155,
      "outputs": [
        {
          "output_type": "stream",
          "name": "stdout",
          "text": [
            "Linear Regression : 0.7696099252637325\n",
            "Ridge Regression : 0.7696099252637318\n",
            "Lasso Regression : 0.7696099252637321\n"
          ]
        }
      ]
    },
    {
      "cell_type": "code",
      "source": [
        "# Plotting the scores\n",
        "plt.bar(models, scores)\n",
        "plt.xlabel('Regression Models')\n",
        "plt.ylabel('Score')\n",
        "plt.show()\n"
      ],
      "metadata": {
        "id": "gChz15jpyeCH",
        "colab": {
          "base_uri": "https://localhost:8080/",
          "height": 281
        },
        "outputId": "c7f04ed6-a1ed-4d65-9b3b-ae90e15dcb16"
      },
      "execution_count": 156,
      "outputs": [
        {
          "output_type": "display_data",
          "data": {
            "text/plain": [
              "<Figure size 432x288 with 1 Axes>"
            ],
            "image/png": "[encoded data removed]"
          },
          "metadata": {
            "needs_background": "light"
          }
        }
      ]
    },
    {
      "cell_type": "code",
      "source": [
        ""
      ],
      "metadata": {
        "id": "_Y2Rj06LyvxU"
      },
      "execution_count": 156,
      "outputs": []
    }
  ]
}