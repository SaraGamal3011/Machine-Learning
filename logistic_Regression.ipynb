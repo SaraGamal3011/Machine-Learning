{
  "nbformat": 4,
  "nbformat_minor": 0,
  "metadata": {
    "colab": {
      "name": "logistic_Regression.ipynb",
      "provenance": [],
      "collapsed_sections": []
    },
    "kernelspec": {
      "name": "python3",
      "display_name": "Python 3"
    },
    "language_info": {
      "name": "python"
    }
  },
  "cells": [
    {
      "cell_type": "code",
      "execution_count": 3,
      "metadata": {
        "id": "AaQ5sJkEggw_"
      },
      "outputs": [],
      "source": [
        "import pandas as pd\n",
        "import numpy as np\n",
        "import matplotlib.pyplot as plt\n",
        "from sklearn.model_selection import train_test_split\n",
        "from sklearn.linear_model import LogisticRegression\n",
        "from sklearn.preprocessing import LabelEncoder\n",
        "from sklearn.metrics import accuracy_score, confusion_matrix\n",
        "from sklearn import preprocessing\n",
        "from sklearn.model_selection import StratifiedKFold\n",
        "import warnings\n",
        "warnings.filterwarnings(\"ignore\") "
      ]
    },
    {
      "cell_type": "code",
      "source": [
        "df=pd.read_csv(\"Fraud.csv\")\n",
        "df.head(10)"
      ],
      "metadata": {
        "colab": {
          "base_uri": "https://localhost:8080/",
          "height": 427
        },
        "id": "shrW7pnmkfES",
        "outputId": "bee87d57-9d2f-44c1-80bd-c3c060cf7b97"
      },
      "execution_count": 4,
      "outputs": [
        {
          "output_type": "execute_result",
          "data": {
            "text/plain": [
              "   step      type    amount     nameOrig  oldbalanceOrg  newbalanceOrig  \\\n",
              "0     1   PAYMENT   9839.64  C1231006815      170136.00       160296.36   \n",
              "1     1   PAYMENT   1864.28  C1666544295       21249.00        19384.72   \n",
              "2     1  TRANSFER    181.00  C1305486145         181.00            0.00   \n",
              "3     1  CASH_OUT    181.00   C840083671         181.00            0.00   \n",
              "4     1   PAYMENT  11668.14  C2048537720       41554.00        29885.86   \n",
              "5     1   PAYMENT   7817.71    C90045638       53860.00        46042.29   \n",
              "6     1   PAYMENT   7107.77   C154988899      183195.00       176087.23   \n",
              "7     1   PAYMENT   7861.64  C1912850431      176087.23       168225.59   \n",
              "8     1   PAYMENT   4024.36  C1265012928        2671.00            0.00   \n",
              "9     1     DEBIT   5337.77   C712410124       41720.00        36382.23   \n",
              "\n",
              "      nameDest  oldbalanceDest  newbalanceDest  isFraud  isFlaggedFraud  \n",
              "0  M1979787155             0.0            0.00      0.0             0.0  \n",
              "1  M2044282225             0.0            0.00      0.0             0.0  \n",
              "2   C553264065             0.0            0.00      1.0             0.0  \n",
              "3    C38997010         21182.0            0.00      1.0             0.0  \n",
              "4  M1230701703             0.0            0.00      0.0             0.0  \n",
              "5   M573487274             0.0            0.00      0.0             0.0  \n",
              "6   M408069119             0.0            0.00      0.0             0.0  \n",
              "7   M633326333             0.0            0.00      0.0             0.0  \n",
              "8  M1176932104             0.0            0.00      0.0             0.0  \n",
              "9   C195600860         41898.0        40348.79      0.0             0.0  "
            ],
            "text/html": [
              "\n",
              "  <div id=\"df-43bed551-f590-404b-97df-795889097cd0\">\n",
              "    <div class=\"colab-df-container\">\n",
              "      <div>\n",
              "<style scoped>\n",
              "    .dataframe tbody tr th:only-of-type {\n",
              "        vertical-align: middle;\n",
              "    }\n",
              "\n",
              "    .dataframe tbody tr th {\n",
              "        vertical-align: top;\n",
              "    }\n",
              "\n",
              "    .dataframe thead th {\n",
              "        text-align: right;\n",
              "    }\n",
              "</style>\n",
              "<table border=\"1\" class=\"dataframe\">\n",
              "  <thead>\n",
              "    <tr style=\"text-align: right;\">\n",
              "      <th></th>\n",
              "      <th>step</th>\n",
              "      <th>type</th>\n",
              "      <th>amount</th>\n",
              "      <th>nameOrig</th>\n",
              "      <th>oldbalanceOrg</th>\n",
              "      <th>newbalanceOrig</th>\n",
              "      <th>nameDest</th>\n",
              "      <th>oldbalanceDest</th>\n",
              "      <th>newbalanceDest</th>\n",
              "      <th>isFraud</th>\n",
              "      <th>isFlaggedFraud</th>\n",
              "    </tr>\n",
              "  </thead>\n",
              "  <tbody>\n",
              "    <tr>\n",
              "      <th>0</th>\n",
              "      <td>1</td>\n",
              "      <td>PAYMENT</td>\n",
              "      <td>9839.64</td>\n",
              "      <td>C1231006815</td>\n",
              "      <td>170136.00</td>\n",
              "      <td>160296.36</td>\n",
              "      <td>M1979787155</td>\n",
              "      <td>0.0</td>\n",
              "      <td>0.00</td>\n",
              "      <td>0.0</td>\n",
              "      <td>0.0</td>\n",
              "    </tr>\n",
              "    <tr>\n",
              "      <th>1</th>\n",
              "      <td>1</td>\n",
              "      <td>PAYMENT</td>\n",
              "      <td>1864.28</td>\n",
              "      <td>C1666544295</td>\n",
              "      <td>21249.00</td>\n",
              "      <td>19384.72</td>\n",
              "      <td>M2044282225</td>\n",
              "      <td>0.0</td>\n",
              "      <td>0.00</td>\n",
              "      <td>0.0</td>\n",
              "      <td>0.0</td>\n",
              "    </tr>\n",
              "    <tr>\n",
              "      <th>2</th>\n",
              "      <td>1</td>\n",
              "      <td>TRANSFER</td>\n",
              "      <td>181.00</td>\n",
              "      <td>C1305486145</td>\n",
              "      <td>181.00</td>\n",
              "      <td>0.00</td>\n",
              "      <td>C553264065</td>\n",
              "      <td>0.0</td>\n",
              "      <td>0.00</td>\n",
              "      <td>1.0</td>\n",
              "      <td>0.0</td>\n",
              "    </tr>\n",
              "    <tr>\n",
              "      <th>3</th>\n",
              "      <td>1</td>\n",
              "      <td>CASH_OUT</td>\n",
              "      <td>181.00</td>\n",
              "      <td>C840083671</td>\n",
              "      <td>181.00</td>\n",
              "      <td>0.00</td>\n",
              "      <td>C38997010</td>\n",
              "      <td>21182.0</td>\n",
              "      <td>0.00</td>\n",
              "      <td>1.0</td>\n",
              "      <td>0.0</td>\n",
              "    </tr>\n",
              "    <tr>\n",
              "      <th>4</th>\n",
              "      <td>1</td>\n",
              "      <td>PAYMENT</td>\n",
              "      <td>11668.14</td>\n",
              "      <td>C2048537720</td>\n",
              "      <td>41554.00</td>\n",
              "      <td>29885.86</td>\n",
              "      <td>M1230701703</td>\n",
              "      <td>0.0</td>\n",
              "      <td>0.00</td>\n",
              "      <td>0.0</td>\n",
              "      <td>0.0</td>\n",
              "    </tr>\n",
              "    <tr>\n",
              "      <th>5</th>\n",
              "      <td>1</td>\n",
              "      <td>PAYMENT</td>\n",
              "      <td>7817.71</td>\n",
              "      <td>C90045638</td>\n",
              "      <td>53860.00</td>\n",
              "      <td>46042.29</td>\n",
              "      <td>M573487274</td>\n",
              "      <td>0.0</td>\n",
              "      <td>0.00</td>\n",
              "      <td>0.0</td>\n",
              "      <td>0.0</td>\n",
              "    </tr>\n",
              "    <tr>\n",
              "      <th>6</th>\n",
              "      <td>1</td>\n",
              "      <td>PAYMENT</td>\n",
              "      <td>7107.77</td>\n",
              "      <td>C154988899</td>\n",
              "      <td>183195.00</td>\n",
              "      <td>176087.23</td>\n",
              "      <td>M408069119</td>\n",
              "      <td>0.0</td>\n",
              "      <td>0.00</td>\n",
              "      <td>0.0</td>\n",
              "      <td>0.0</td>\n",
              "    </tr>\n",
              "    <tr>\n",
              "      <th>7</th>\n",
              "      <td>1</td>\n",
              "      <td>PAYMENT</td>\n",
              "      <td>7861.64</td>\n",
              "      <td>C1912850431</td>\n",
              "      <td>176087.23</td>\n",
              "      <td>168225.59</td>\n",
              "      <td>M633326333</td>\n",
              "      <td>0.0</td>\n",
              "      <td>0.00</td>\n",
              "      <td>0.0</td>\n",
              "      <td>0.0</td>\n",
              "    </tr>\n",
              "    <tr>\n",
              "      <th>8</th>\n",
              "      <td>1</td>\n",
              "      <td>PAYMENT</td>\n",
              "      <td>4024.36</td>\n",
              "      <td>C1265012928</td>\n",
              "      <td>2671.00</td>\n",
              "      <td>0.00</td>\n",
              "      <td>M1176932104</td>\n",
              "      <td>0.0</td>\n",
              "      <td>0.00</td>\n",
              "      <td>0.0</td>\n",
              "      <td>0.0</td>\n",
              "    </tr>\n",
              "    <tr>\n",
              "      <th>9</th>\n",
              "      <td>1</td>\n",
              "      <td>DEBIT</td>\n",
              "      <td>5337.77</td>\n",
              "      <td>C712410124</td>\n",
              "      <td>41720.00</td>\n",
              "      <td>36382.23</td>\n",
              "      <td>C195600860</td>\n",
              "      <td>41898.0</td>\n",
              "      <td>40348.79</td>\n",
              "      <td>0.0</td>\n",
              "      <td>0.0</td>\n",
              "    </tr>\n",
              "  </tbody>\n",
              "</table>\n",
              "</div>\n",
              "      <button class=\"colab-df-convert\" onclick=\"convertToInteractive('df-43bed551-f590-404b-97df-795889097cd0')\"\n",
              "              title=\"Convert this dataframe to an interactive table.\"\n",
              "              style=\"display:none;\">\n",
              "        \n",
              "  <svg xmlns=\"http://www.w3.org/2000/svg\" height=\"24px\"viewBox=\"0 0 24 24\"\n",
              "       width=\"24px\">\n",
              "    <path d=\"M0 0h24v24H0V0z\" fill=\"none\"/>\n",
              "    <path d=\"M18.56 5.44l.94 2.06.94-2.06 2.06-.94-2.06-.94-.94-2.06-.94 2.06-2.06.94zm-11 1L8.5 8.5l.94-2.06 2.06-.94-2.06-.94L8.5 2.5l-.94 2.06-2.06.94zm10 10l.94 2.06.94-2.06 2.06-.94-2.06-.94-.94-2.06-.94 2.06-2.06.94z\"/><path d=\"M17.41 7.96l-1.37-1.37c-.4-.4-.92-.59-1.43-.59-.52 0-1.04.2-1.43.59L10.3 9.45l-7.72 7.72c-.78.78-.78 2.05 0 2.83L4 21.41c.39.39.9.59 1.41.59.51 0 1.02-.2 1.41-.59l7.78-7.78 2.81-2.81c.8-.78.8-2.07 0-2.86zM5.41 20L4 18.59l7.72-7.72 1.47 1.35L5.41 20z\"/>\n",
              "  </svg>\n",
              "      </button>\n",
              "      \n",
              "  <style>\n",
              "    .colab-df-container {\n",
              "      display:flex;\n",
              "      flex-wrap:wrap;\n",
              "      gap: 12px;\n",
              "    }\n",
              "\n",
              "    .colab-df-convert {\n",
              "      background-color: #E8F0FE;\n",
              "      border: none;\n",
              "      border-radius: 50%;\n",
              "      cursor: pointer;\n",
              "      display: none;\n",
              "      fill: #1967D2;\n",
              "      height: 32px;\n",
              "      padding: 0 0 0 0;\n",
              "      width: 32px;\n",
              "    }\n",
              "\n",
              "    .colab-df-convert:hover {\n",
              "      background-color: #E2EBFA;\n",
              "      box-shadow: 0px 1px 2px rgba(60, 64, 67, 0.3), 0px 1px 3px 1px rgba(60, 64, 67, 0.15);\n",
              "      fill: #174EA6;\n",
              "    }\n",
              "\n",
              "    [theme=dark] .colab-df-convert {\n",
              "      background-color: #3B4455;\n",
              "      fill: #D2E3FC;\n",
              "    }\n",
              "\n",
              "    [theme=dark] .colab-df-convert:hover {\n",
              "      background-color: #434B5C;\n",
              "      box-shadow: 0px 1px 3px 1px rgba(0, 0, 0, 0.15);\n",
              "      filter: drop-shadow(0px 1px 2px rgba(0, 0, 0, 0.3));\n",
              "      fill: #FFFFFF;\n",
              "    }\n",
              "  </style>\n",
              "\n",
              "      <script>\n",
              "        const buttonEl =\n",
              "          document.querySelector('#df-43bed551-f590-404b-97df-795889097cd0 button.colab-df-convert');\n",
              "        buttonEl.style.display =\n",
              "          google.colab.kernel.accessAllowed ? 'block' : 'none';\n",
              "\n",
              "        async function convertToInteractive(key) {\n",
              "          const element = document.querySelector('#df-43bed551-f590-404b-97df-795889097cd0');\n",
              "          const dataTable =\n",
              "            await google.colab.kernel.invokeFunction('convertToInteractive',\n",
              "                                                     [key], {});\n",
              "          if (!dataTable) return;\n",
              "\n",
              "          const docLinkHtml = 'Like what you see? Visit the ' +\n",
              "            '<a target=\"_blank\" href=https://colab.research.google.com/notebooks/data_table.ipynb>data table notebook</a>'\n",
              "            + ' to learn more about interactive tables.';\n",
              "          element.innerHTML = '';\n",
              "          dataTable['output_type'] = 'display_data';\n",
              "          await google.colab.output.renderOutput(dataTable, element);\n",
              "          const docLink = document.createElement('div');\n",
              "          docLink.innerHTML = docLinkHtml;\n",
              "          element.appendChild(docLink);\n",
              "        }\n",
              "      </script>\n",
              "    </div>\n",
              "  </div>\n",
              "  "
            ]
          },
          "metadata": {},
          "execution_count": 4
        }
      ]
    },
    {
      "cell_type": "code",
      "source": [
        "df.dropna(inplace=True)"
      ],
      "metadata": {
        "id": "4wfbmeA8OJCJ"
      },
      "execution_count": 5,
      "outputs": []
    },
    {
      "cell_type": "code",
      "source": [
        "df.isnull().sum()"
      ],
      "metadata": {
        "colab": {
          "base_uri": "https://localhost:8080/"
        },
        "id": "E_PHIjnv5sis",
        "outputId": "7308615e-117c-49fb-a685-f16ae2a92afc"
      },
      "execution_count": 6,
      "outputs": [
        {
          "output_type": "execute_result",
          "data": {
            "text/plain": [
              "step              0\n",
              "type              0\n",
              "amount            0\n",
              "nameOrig          0\n",
              "oldbalanceOrg     0\n",
              "newbalanceOrig    0\n",
              "nameDest          0\n",
              "oldbalanceDest    0\n",
              "newbalanceDest    0\n",
              "isFraud           0\n",
              "isFlaggedFraud    0\n",
              "dtype: int64"
            ]
          },
          "metadata": {},
          "execution_count": 6
        }
      ]
    },
    {
      "cell_type": "code",
      "source": [
        "label=LabelEncoder()\n",
        "df['type']=label.fit_transform(df['type'])\n",
        "df['nameOrig']=label.fit_transform(df['nameOrig'])\n",
        "df['nameDest']=label.fit_transform(df['nameDest'])"
      ],
      "metadata": {
        "id": "g_3-dZw8bTCB"
      },
      "execution_count": 7,
      "outputs": []
    },
    {
      "cell_type": "code",
      "source": [
        "X=df.drop(labels=['isFraud'], axis=1)\n",
        "y=df[\"isFraud\"]"
      ],
      "metadata": {
        "id": "h5YDYthqcMxG"
      },
      "execution_count": 8,
      "outputs": []
    },
    {
      "cell_type": "code",
      "source": [
        "Minscaler = preprocessing.MinMaxScaler()\n",
        "x_scaled = Minscaler.fit_transform(X)\n",
        "df_scaled=pd.DataFrame(x_scaled,columns=X.columns)\n",
        "df_scaled.head()"
      ],
      "metadata": {
        "colab": {
          "base_uri": "https://localhost:8080/",
          "height": 250
        },
        "id": "zZu8-0k7bsey",
        "outputId": "954b5845-a93b-4ec1-83bb-bb18b7b4749a"
      },
      "execution_count": 9,
      "outputs": [
        {
          "output_type": "execute_result",
          "data": {
            "text/plain": [
              "   step  type    amount  nameOrig  oldbalanceOrg  newbalanceOrig  nameDest  \\\n",
              "0   0.0  0.75  0.000984  0.119042       0.004369        0.004116  0.619019   \n",
              "1   0.0  0.75  0.000186  0.342716       0.000546        0.000498  0.644568   \n",
              "2   0.0  1.00  0.000018  0.156936       0.000005        0.000000  0.174359   \n",
              "3   0.0  0.25  0.000018  0.916983       0.000005        0.000000  0.155043   \n",
              "4   0.0  0.75  0.001167  0.538621       0.001067        0.000767  0.317554   \n",
              "\n",
              "   oldbalanceDest  newbalanceDest  isFlaggedFraud  \n",
              "0        0.000000             0.0             0.0  \n",
              "1        0.000000             0.0             0.0  \n",
              "2        0.000000             0.0             0.0  \n",
              "3        0.000543             0.0             0.0  \n",
              "4        0.000000             0.0             0.0  "
            ],
            "text/html": [
              "\n",
              "  <div id=\"df-4dfd1689-d85d-4886-8708-dcaba1a038dd\">\n",
              "    <div class=\"colab-df-container\">\n",
              "      <div>\n",
              "<style scoped>\n",
              "    .dataframe tbody tr th:only-of-type {\n",
              "        vertical-align: middle;\n",
              "    }\n",
              "\n",
              "    .dataframe tbody tr th {\n",
              "        vertical-align: top;\n",
              "    }\n",
              "\n",
              "    .dataframe thead th {\n",
              "        text-align: right;\n",
              "    }\n",
              "</style>\n",
              "<table border=\"1\" class=\"dataframe\">\n",
              "  <thead>\n",
              "    <tr style=\"text-align: right;\">\n",
              "      <th></th>\n",
              "      <th>step</th>\n",
              "      <th>type</th>\n",
              "      <th>amount</th>\n",
              "      <th>nameOrig</th>\n",
              "      <th>oldbalanceOrg</th>\n",
              "      <th>newbalanceOrig</th>\n",
              "      <th>nameDest</th>\n",
              "      <th>oldbalanceDest</th>\n",
              "      <th>newbalanceDest</th>\n",
              "      <th>isFlaggedFraud</th>\n",
              "    </tr>\n",
              "  </thead>\n",
              "  <tbody>\n",
              "    <tr>\n",
              "      <th>0</th>\n",
              "      <td>0.0</td>\n",
              "      <td>0.75</td>\n",
              "      <td>0.000984</td>\n",
              "      <td>0.119042</td>\n",
              "      <td>0.004369</td>\n",
              "      <td>0.004116</td>\n",
              "      <td>0.619019</td>\n",
              "      <td>0.000000</td>\n",
              "      <td>0.0</td>\n",
              "      <td>0.0</td>\n",
              "    </tr>\n",
              "    <tr>\n",
              "      <th>1</th>\n",
              "      <td>0.0</td>\n",
              "      <td>0.75</td>\n",
              "      <td>0.000186</td>\n",
              "      <td>0.342716</td>\n",
              "      <td>0.000546</td>\n",
              "      <td>0.000498</td>\n",
              "      <td>0.644568</td>\n",
              "      <td>0.000000</td>\n",
              "      <td>0.0</td>\n",
              "      <td>0.0</td>\n",
              "    </tr>\n",
              "    <tr>\n",
              "      <th>2</th>\n",
              "      <td>0.0</td>\n",
              "      <td>1.00</td>\n",
              "      <td>0.000018</td>\n",
              "      <td>0.156936</td>\n",
              "      <td>0.000005</td>\n",
              "      <td>0.000000</td>\n",
              "      <td>0.174359</td>\n",
              "      <td>0.000000</td>\n",
              "      <td>0.0</td>\n",
              "      <td>0.0</td>\n",
              "    </tr>\n",
              "    <tr>\n",
              "      <th>3</th>\n",
              "      <td>0.0</td>\n",
              "      <td>0.25</td>\n",
              "      <td>0.000018</td>\n",
              "      <td>0.916983</td>\n",
              "      <td>0.000005</td>\n",
              "      <td>0.000000</td>\n",
              "      <td>0.155043</td>\n",
              "      <td>0.000543</td>\n",
              "      <td>0.0</td>\n",
              "      <td>0.0</td>\n",
              "    </tr>\n",
              "    <tr>\n",
              "      <th>4</th>\n",
              "      <td>0.0</td>\n",
              "      <td>0.75</td>\n",
              "      <td>0.001167</td>\n",
              "      <td>0.538621</td>\n",
              "      <td>0.001067</td>\n",
              "      <td>0.000767</td>\n",
              "      <td>0.317554</td>\n",
              "      <td>0.000000</td>\n",
              "      <td>0.0</td>\n",
              "      <td>0.0</td>\n",
              "    </tr>\n",
              "  </tbody>\n",
              "</table>\n",
              "</div>\n",
              "      <button class=\"colab-df-convert\" onclick=\"convertToInteractive('df-4dfd1689-d85d-4886-8708-dcaba1a038dd')\"\n",
              "              title=\"Convert this dataframe to an interactive table.\"\n",
              "              style=\"display:none;\">\n",
              "        \n",
              "  <svg xmlns=\"http://www.w3.org/2000/svg\" height=\"24px\"viewBox=\"0 0 24 24\"\n",
              "       width=\"24px\">\n",
              "    <path d=\"M0 0h24v24H0V0z\" fill=\"none\"/>\n",
              "    <path d=\"M18.56 5.44l.94 2.06.94-2.06 2.06-.94-2.06-.94-.94-2.06-.94 2.06-2.06.94zm-11 1L8.5 8.5l.94-2.06 2.06-.94-2.06-.94L8.5 2.5l-.94 2.06-2.06.94zm10 10l.94 2.06.94-2.06 2.06-.94-2.06-.94-.94-2.06-.94 2.06-2.06.94z\"/><path d=\"M17.41 7.96l-1.37-1.37c-.4-.4-.92-.59-1.43-.59-.52 0-1.04.2-1.43.59L10.3 9.45l-7.72 7.72c-.78.78-.78 2.05 0 2.83L4 21.41c.39.39.9.59 1.41.59.51 0 1.02-.2 1.41-.59l7.78-7.78 2.81-2.81c.8-.78.8-2.07 0-2.86zM5.41 20L4 18.59l7.72-7.72 1.47 1.35L5.41 20z\"/>\n",
              "  </svg>\n",
              "      </button>\n",
              "      \n",
              "  <style>\n",
              "    .colab-df-container {\n",
              "      display:flex;\n",
              "      flex-wrap:wrap;\n",
              "      gap: 12px;\n",
              "    }\n",
              "\n",
              "    .colab-df-convert {\n",
              "      background-color: #E8F0FE;\n",
              "      border: none;\n",
              "      border-radius: 50%;\n",
              "      cursor: pointer;\n",
              "      display: none;\n",
              "      fill: #1967D2;\n",
              "      height: 32px;\n",
              "      padding: 0 0 0 0;\n",
              "      width: 32px;\n",
              "    }\n",
              "\n",
              "    .colab-df-convert:hover {\n",
              "      background-color: #E2EBFA;\n",
              "      box-shadow: 0px 1px 2px rgba(60, 64, 67, 0.3), 0px 1px 3px 1px rgba(60, 64, 67, 0.15);\n",
              "      fill: #174EA6;\n",
              "    }\n",
              "\n",
              "    [theme=dark] .colab-df-convert {\n",
              "      background-color: #3B4455;\n",
              "      fill: #D2E3FC;\n",
              "    }\n",
              "\n",
              "    [theme=dark] .colab-df-convert:hover {\n",
              "      background-color: #434B5C;\n",
              "      box-shadow: 0px 1px 3px 1px rgba(0, 0, 0, 0.15);\n",
              "      filter: drop-shadow(0px 1px 2px rgba(0, 0, 0, 0.3));\n",
              "      fill: #FFFFFF;\n",
              "    }\n",
              "  </style>\n",
              "\n",
              "      <script>\n",
              "        const buttonEl =\n",
              "          document.querySelector('#df-4dfd1689-d85d-4886-8708-dcaba1a038dd button.colab-df-convert');\n",
              "        buttonEl.style.display =\n",
              "          google.colab.kernel.accessAllowed ? 'block' : 'none';\n",
              "\n",
              "        async function convertToInteractive(key) {\n",
              "          const element = document.querySelector('#df-4dfd1689-d85d-4886-8708-dcaba1a038dd');\n",
              "          const dataTable =\n",
              "            await google.colab.kernel.invokeFunction('convertToInteractive',\n",
              "                                                     [key], {});\n",
              "          if (!dataTable) return;\n",
              "\n",
              "          const docLinkHtml = 'Like what you see? Visit the ' +\n",
              "            '<a target=\"_blank\" href=https://colab.research.google.com/notebooks/data_table.ipynb>data table notebook</a>'\n",
              "            + ' to learn more about interactive tables.';\n",
              "          element.innerHTML = '';\n",
              "          dataTable['output_type'] = 'display_data';\n",
              "          await google.colab.output.renderOutput(dataTable, element);\n",
              "          const docLink = document.createElement('div');\n",
              "          docLink.innerHTML = docLinkHtml;\n",
              "          element.appendChild(docLink);\n",
              "        }\n",
              "      </script>\n",
              "    </div>\n",
              "  </div>\n",
              "  "
            ]
          },
          "metadata": {},
          "execution_count": 9
        }
      ]
    },
    {
      "cell_type": "code",
      "source": [
        "\n",
        "X_train, X_test, y_train, y_test = train_test_split(df_scaled, y,\n",
        "    test_size=0.2, shuffle = True)\n",
        "\n",
        "# Use the same function above for the validation set\n",
        "X_train, X_val, y_train, y_val = train_test_split(X_train, y_train, \n",
        "    test_size=0.25) "
      ],
      "metadata": {
        "id": "ht1sa8_Bkp05"
      },
      "execution_count": 42,
      "outputs": []
    },
    {
      "cell_type": "code",
      "source": [
        "X_val.shape"
      ],
      "metadata": {
        "colab": {
          "base_uri": "https://localhost:8080/"
        },
        "id": "36FdWyJ0o97J",
        "outputId": "247beaff-9ee6-499d-fa68-642c492c4fa6"
      },
      "execution_count": 40,
      "outputs": [
        {
          "output_type": "execute_result",
          "data": {
            "text/plain": [
              "(38519, 10)"
            ]
          },
          "metadata": {},
          "execution_count": 40
        }
      ]
    },
    {
      "cell_type": "code",
      "source": [
        "df.isnull().sum()"
      ],
      "metadata": {
        "colab": {
          "base_uri": "https://localhost:8080/"
        },
        "id": "zHHKkggl6AQK",
        "outputId": "be301063-407b-4882-d2f9-d87d6e2362b1"
      },
      "execution_count": 12,
      "outputs": [
        {
          "output_type": "execute_result",
          "data": {
            "text/plain": [
              "step              0\n",
              "type              0\n",
              "amount            0\n",
              "nameOrig          0\n",
              "oldbalanceOrg     0\n",
              "newbalanceOrig    0\n",
              "nameDest          0\n",
              "oldbalanceDest    0\n",
              "newbalanceDest    0\n",
              "isFraud           0\n",
              "isFlaggedFraud    0\n",
              "dtype: int64"
            ]
          },
          "metadata": {},
          "execution_count": 12
        }
      ]
    },
    {
      "cell_type": "code",
      "source": [
        "model = LogisticRegression(penalty='none')\n",
        "model.fit(X_train, y_train)\n",
        "predicted_classes = model.predict(X_test)\n",
        "accuracy = model.score(X_test,y_test)\n",
        "print(accuracy)\n",
        "confusion_matrix(y_test,predicted_classes)"
      ],
      "metadata": {
        "colab": {
          "base_uri": "https://localhost:8080/"
        },
        "id": "CXjlmXA6pc-i",
        "outputId": "c4d51e5f-6fd3-42b2-eecd-e0970be655b1"
      },
      "execution_count": 13,
      "outputs": [
        {
          "output_type": "stream",
          "name": "stdout",
          "text": [
            "0.9993769308652872\n"
          ]
        },
        {
          "output_type": "execute_result",
          "data": {
            "text/plain": [
              "array([[38490,     2],\n",
              "       [   22,     5]])"
            ]
          },
          "metadata": {},
          "execution_count": 13
        }
      ]
    },
    {
      "cell_type": "code",
      "source": [
        "sk= StratifiedKFold(n_splits=5, shuffle=True, random_state=1)\n",
        "Skf = []\n",
        "  \n",
        "for train_index, test_index in sk.split(X,y):\n",
        "    x_train_fold, x_test_fold = x_scaled[train_index], x_scaled[test_index]\n",
        "    y_train_fold, y_test_fold = y[train_index], y[test_index]\n",
        "    model.fit(x_train_fold, y_train_fold)\n",
        "    Skf.append(model.score(x_test_fold, y_test_fold))\n",
        "Skf"
      ],
      "metadata": {
        "colab": {
          "base_uri": "https://localhost:8080/"
        },
        "id": "Vo_SOvjbkxjQ",
        "outputId": "3c9c892c-2611-430a-d407-eab085f655d4"
      },
      "execution_count": 14,
      "outputs": [
        {
          "output_type": "execute_result",
          "data": {
            "text/plain": [
              "[0.9993250084373946,\n",
              " 0.9993509696513408,\n",
              " 0.9992730671374422,\n",
              " 0.9993509528012877,\n",
              " 0.9992730671374422]"
            ]
          },
          "metadata": {},
          "execution_count": 14
        }
      ]
    },
    {
      "cell_type": "code",
      "source": [
        "model = LogisticRegression(penalty='l2')\n",
        "model.fit(X_train, y_train)\n",
        "predicted_classes = model.predict(X_test)\n",
        "accuracy = model.score(X_test,y_test)\n",
        "print(accuracy)\n",
        "confusion_matrix(y_test,predicted_classes)"
      ],
      "metadata": {
        "colab": {
          "base_uri": "https://localhost:8080/"
        },
        "id": "xXoIb8AsPaOT",
        "outputId": "8f929d08-aed6-4b14-9146-6b95ed6dbc91"
      },
      "execution_count": null,
      "outputs": [
        {
          "output_type": "stream",
          "name": "stdout",
          "text": [
            "0.9989318837469899\n"
          ]
        },
        {
          "output_type": "execute_result",
          "data": {
            "text/plain": [
              "array([[209475,      0],\n",
              "       [   224,     16]])"
            ]
          },
          "metadata": {},
          "execution_count": 41
        }
      ]
    },
    {
      "cell_type": "code",
      "source": [
        "predict_val=[]\n",
        "predict_train=[]\n",
        "min=[]\n",
        "C_param_range = [0.001,0.01,0.1,1,5,10,15,20,25,30]\n",
        "for i in C_param_range:\n",
        "    log=LogisticRegression(C=i)\n",
        "    log.fit(X_train,y_train)\n",
        "    pred_val=log.predict(X_val)\n",
        "    accuracy_val=accuracy_score(y_val,pred_val)\n",
        "    err_val=1-accuracy_val\n",
        "    predict_val.append(1-accuracy_val)\n",
        "    \n",
        "    pred_train=log.predict(X_train)\n",
        "    accuracy_train=accuracy_score(y_train,pred_train)\n",
        "    predict_train.append(1-accuracy_train)\n",
        "\n",
        "\n",
        "    \n",
        "fig, ax = plt.subplots()\n",
        "ax.plot(C_param_range, predict_train, '-b', label='Train')\n",
        "ax.plot(C_param_range, predict_val, '-r', label='Cross_validation')\n",
        "plt.xlabel(\"lambda (Regularization)\")\n",
        "plt.ylabel(\"Cost Function\")\n",
        "leg = ax.legend();"
      ],
      "metadata": {
        "colab": {
          "base_uri": "https://localhost:8080/",
          "height": 280
        },
        "id": "ZEPnuKZZwuy5",
        "outputId": "7529b947-afd7-4d68-b87b-6233f16e263d"
      },
      "execution_count": null,
      "outputs": [
        {
          "output_type": "display_data",
          "data": {
            "text/plain": [
              "<Figure size 432x288 with 1 Axes>"
            ],
            "image/png": "[encoded data removed]"
          },
          "metadata": {
            "needs_background": "light"
          }
        }
      ]
    },
    {
      "cell_type": "code",
      "source": [
        "diff=[]\n",
        "for i in range (len(predict_val)):\n",
        " \n",
        "  diff.append(np.abs(predict_val[i] - predict_train[i]))\n",
        "\n",
        "best_alpha=C_param_range[np.argmin(diff)]\n",
        "best_alpha\n"
      ],
      "metadata": {
        "colab": {
          "base_uri": "https://localhost:8080/"
        },
        "id": "aJ1E-tkrx122",
        "outputId": "c4298705-8b55-48a4-acc6-d8f2d6e0c114"
      },
      "execution_count": null,
      "outputs": [
        {
          "output_type": "execute_result",
          "data": {
            "text/plain": [
              "1"
            ]
          },
          "metadata": {},
          "execution_count": 46
        }
      ]
    },
    {
      "cell_type": "code",
      "source": [
        "logreg = LogisticRegression(C=best_alpha)\n",
        "logreg.fit(X_train, y_train)\n",
        "predicted_classes = logreg.predict(X_test)\n",
        "accuracy = logreg.score(X_test,y_test)\n",
        "print(accuracy)\n",
        "confusion_matrix(y_test,predicted_classes)"
      ],
      "metadata": {
        "colab": {
          "base_uri": "https://localhost:8080/"
        },
        "id": "CfA_cZ07yS2I",
        "outputId": "44ee9b8c-b176-4421-8d41-a4916cf7c95a"
      },
      "execution_count": null,
      "outputs": [
        {
          "output_type": "stream",
          "name": "stdout",
          "text": [
            "0.9989318837469899\n"
          ]
        },
        {
          "output_type": "execute_result",
          "data": {
            "text/plain": [
              "array([[209475,      0],\n",
              "       [   224,     16]])"
            ]
          },
          "metadata": {},
          "execution_count": 47
        }
      ]
    },
    {
      "cell_type": "code",
      "source": [
        "predict_val_l1=[]\n",
        "predict_train_l1=[]\n",
        "\n",
        "C = [0.001,0.01,0.1,1,5,10,15,20,25,30]\n",
        "for i in C:\n",
        "    log=LogisticRegression(C=i, penalty='l1', solver='liblinear')\n",
        "    log.fit(X_train,y_train)\n",
        "    pred_val_l1=log.predict(X_val)\n",
        "    accuracy_val_l1=accuracy_score(y_val,pred_val_l1)\n",
        "    err_val=1-accuracy_val\n",
        "    predict_val_l1.append(1-accuracy_val)\n",
        "    \n",
        "    pred_train_l1=log.predict(X_train)\n",
        "    accuracy_train_l1=accuracy_score(y_train,pred_train_l1)\n",
        "    predict_train_l1.append(1-accuracy_train)\n",
        "\n",
        "\n",
        "    \n",
        "# fig, ax = plt.subplots()\n",
        "# ax.plot(C, predict_train_l1, '-b', label='Train')\n",
        "# ax.plot(C, predict_val_l1, '-r', label='Cross_validation')\n",
        "# plt.xlabel(\"lambda (Regularization)\")\n",
        "# plt.ylabel(\"Cost Function\")\n",
        "# leg = ax.legend();"
      ],
      "metadata": {
        "id": "Jyn-H3piPpfR"
      },
      "execution_count": 46,
      "outputs": []
    },
    {
      "cell_type": "code",
      "source": [
        "diff_l1=[]\n",
        "for i in range (len(predict_val_l1)):\n",
        " \n",
        "  diff_l1.append(np.abs(predict_val_l1[i] - predict_train_l1[i]))\n",
        "\n",
        "best_al=C[np.argmin(diff_l1)]\n",
        "best_al\n"
      ],
      "metadata": {
        "colab": {
          "base_uri": "https://localhost:8080/"
        },
        "id": "VZxTka9pQAF8",
        "outputId": "0bd74d84-b197-40f0-ca15-6b8462ff85d2"
      },
      "execution_count": 48,
      "outputs": [
        {
          "output_type": "execute_result",
          "data": {
            "text/plain": [
              "0.001"
            ]
          },
          "metadata": {},
          "execution_count": 48
        }
      ]
    },
    {
      "cell_type": "code",
      "source": [
        "logreg = LogisticRegression(C=best_al)\n",
        "logreg.fit(X_train, y_train)\n",
        "predicted_classes = logreg.predict(X_test)\n",
        "accuracy = logreg.score(X_test,y_test)\n",
        "print(accuracy)\n",
        "confusion_matrix(y_test,predicted_classes)"
      ],
      "metadata": {
        "colab": {
          "base_uri": "https://localhost:8080/"
        },
        "id": "q7e1UHuVQN_8",
        "outputId": "de85a0df-95f2-46c2-e5a2-77c20dd8d178"
      },
      "execution_count": 36,
      "outputs": [
        {
          "output_type": "stream",
          "name": "stdout",
          "text": [
            "0.9992990472234482\n"
          ]
        },
        {
          "output_type": "execute_result",
          "data": {
            "text/plain": [
              "array([[38492,     0],\n",
              "       [   27,     0]])"
            ]
          },
          "metadata": {},
          "execution_count": 36
        }
      ]
    },
    {
      "cell_type": "code",
      "source": [
        "model = LogisticRegression(penalty='l1', solver='liblinear')\n",
        "model.fit(X_train, y_train)\n",
        "predicted_classes = model.predict(X_test)\n",
        "accuracy = model.score(X_test,y_test)\n",
        "print(accuracy)\n",
        "confusion_matrix(y_test,predicted_classes)"
      ],
      "metadata": {
        "colab": {
          "base_uri": "https://localhost:8080/"
        },
        "id": "QNJDM23m5Fnu",
        "outputId": "04c6b71f-a109-47d3-988f-afb1b5171abb"
      },
      "execution_count": null,
      "outputs": [
        {
          "output_type": "stream",
          "name": "stdout",
          "text": [
            "0.9991655341773359\n"
          ]
        },
        {
          "output_type": "execute_result",
          "data": {
            "text/plain": [
              "array([[209467,      8],\n",
              "       [   167,     73]])"
            ]
          },
          "metadata": {},
          "execution_count": 43
        }
      ]
    },
    {
      "cell_type": "code",
      "source": [
        ""
      ],
      "metadata": {
        "id": "IlNpv010Pv87"
      },
      "execution_count": null,
      "outputs": []
    }
  ]
}